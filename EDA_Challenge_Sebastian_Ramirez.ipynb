{
 "cells": [
  {
   "cell_type": "markdown",
   "id": "e316cfd1",
   "metadata": {},
   "source": [
    "# Cargamos las librerias"
   ]
  },
  {
   "cell_type": "code",
   "execution_count": 1,
   "id": "bc60f0c4",
   "metadata": {},
   "outputs": [],
   "source": [
    "import pandas as pd\n",
    "import numpy as np\n",
    "import seaborn as sns\n",
    "import matplotlib.pyplot as plt\n",
    "import time\n",
    "from sklearn.preprocessing import MinMaxScaler\n",
    "from sklearn.metrics.pairwise import cosine_similarity"
   ]
  },
  {
   "cell_type": "markdown",
   "id": "757ea594",
   "metadata": {},
   "source": [
    "## Cargamos los archivos y hacemos el EDA"
   ]
  },
  {
   "cell_type": "code",
   "execution_count": 2,
   "id": "3aa7e150",
   "metadata": {},
   "outputs": [
    {
     "name": "stdout",
     "output_type": "stream",
     "text": [
      "(100, 2)\n",
      "['Providencia' 'Penalolen' 'Nunoa' 'Macul' 'La Florida']\n"
     ]
    },
    {
     "data": {
      "text/html": [
       "<div>\n",
       "<style scoped>\n",
       "    .dataframe tbody tr th:only-of-type {\n",
       "        vertical-align: middle;\n",
       "    }\n",
       "\n",
       "    .dataframe tbody tr th {\n",
       "        vertical-align: top;\n",
       "    }\n",
       "\n",
       "    .dataframe thead th {\n",
       "        text-align: right;\n",
       "    }\n",
       "</style>\n",
       "<table border=\"1\" class=\"dataframe\">\n",
       "  <thead>\n",
       "    <tr style=\"text-align: right;\">\n",
       "      <th></th>\n",
       "      <th>id_commerce</th>\n",
       "      <th>district</th>\n",
       "    </tr>\n",
       "  </thead>\n",
       "  <tbody>\n",
       "    <tr>\n",
       "      <th>0</th>\n",
       "      <td>1</td>\n",
       "      <td>Providencia</td>\n",
       "    </tr>\n",
       "    <tr>\n",
       "      <th>1</th>\n",
       "      <td>2</td>\n",
       "      <td>Penalolen</td>\n",
       "    </tr>\n",
       "    <tr>\n",
       "      <th>2</th>\n",
       "      <td>3</td>\n",
       "      <td>Penalolen</td>\n",
       "    </tr>\n",
       "    <tr>\n",
       "      <th>3</th>\n",
       "      <td>4</td>\n",
       "      <td>Nunoa</td>\n",
       "    </tr>\n",
       "    <tr>\n",
       "      <th>4</th>\n",
       "      <td>5</td>\n",
       "      <td>Nunoa</td>\n",
       "    </tr>\n",
       "  </tbody>\n",
       "</table>\n",
       "</div>"
      ],
      "text/plain": [
       "   id_commerce     district\n",
       "0            1  Providencia\n",
       "1            2    Penalolen\n",
       "2            3    Penalolen\n",
       "3            4        Nunoa\n",
       "4            5        Nunoa"
      ]
     },
     "execution_count": 2,
     "metadata": {},
     "output_type": "execute_result"
    }
   ],
   "source": [
    "comercios = pd.read_csv(\"commerces.csv\", sep=\",\")\n",
    "print(comercios.shape)\n",
    "print(comercios['district'].unique())\n",
    "comercios.head()"
   ]
  },
  {
   "cell_type": "code",
   "execution_count": 3,
   "id": "6194a9df",
   "metadata": {},
   "outputs": [
    {
     "data": {
      "text/plain": [
       "id_commerce    0\n",
       "district       0\n",
       "dtype: int64"
      ]
     },
     "execution_count": 3,
     "metadata": {},
     "output_type": "execute_result"
    }
   ],
   "source": [
    "comercios.isnull().sum()"
   ]
  },
  {
   "cell_type": "code",
   "execution_count": 175,
   "id": "1e4993a3",
   "metadata": {},
   "outputs": [
    {
     "name": "stdout",
     "output_type": "stream",
     "text": [
      "(50, 4)\n",
      "Categorias : ['Hogar', 'Electrónica', 'Alimentos', 'Ropa', 'Juguetes']\n",
      "Productos distintos para vender : 50\n"
     ]
    },
    {
     "data": {
      "text/html": [
       "<div>\n",
       "<style scoped>\n",
       "    .dataframe tbody tr th:only-of-type {\n",
       "        vertical-align: middle;\n",
       "    }\n",
       "\n",
       "    .dataframe tbody tr th {\n",
       "        vertical-align: top;\n",
       "    }\n",
       "\n",
       "    .dataframe thead th {\n",
       "        text-align: right;\n",
       "    }\n",
       "</style>\n",
       "<table border=\"1\" class=\"dataframe\">\n",
       "  <thead>\n",
       "    <tr style=\"text-align: right;\">\n",
       "      <th></th>\n",
       "      <th>id_product</th>\n",
       "      <th>name</th>\n",
       "      <th>category</th>\n",
       "      <th>price</th>\n",
       "    </tr>\n",
       "  </thead>\n",
       "  <tbody>\n",
       "    <tr>\n",
       "      <th>0</th>\n",
       "      <td>1</td>\n",
       "      <td>Producto 1</td>\n",
       "      <td>Hogar</td>\n",
       "      <td>54</td>\n",
       "    </tr>\n",
       "    <tr>\n",
       "      <th>1</th>\n",
       "      <td>2</td>\n",
       "      <td>Producto 2</td>\n",
       "      <td>Electrónica</td>\n",
       "      <td>76</td>\n",
       "    </tr>\n",
       "    <tr>\n",
       "      <th>2</th>\n",
       "      <td>3</td>\n",
       "      <td>Producto 3</td>\n",
       "      <td>Hogar</td>\n",
       "      <td>67</td>\n",
       "    </tr>\n",
       "    <tr>\n",
       "      <th>3</th>\n",
       "      <td>4</td>\n",
       "      <td>Producto 4</td>\n",
       "      <td>Alimentos</td>\n",
       "      <td>95</td>\n",
       "    </tr>\n",
       "    <tr>\n",
       "      <th>4</th>\n",
       "      <td>5</td>\n",
       "      <td>Producto 5</td>\n",
       "      <td>Ropa</td>\n",
       "      <td>95</td>\n",
       "    </tr>\n",
       "  </tbody>\n",
       "</table>\n",
       "</div>"
      ],
      "text/plain": [
       "   id_product        name     category  price\n",
       "0           1  Producto 1        Hogar     54\n",
       "1           2  Producto 2  Electrónica     76\n",
       "2           3  Producto 3        Hogar     67\n",
       "3           4  Producto 4    Alimentos     95\n",
       "4           5  Producto 5         Ropa     95"
      ]
     },
     "execution_count": 175,
     "metadata": {},
     "output_type": "execute_result"
    }
   ],
   "source": [
    "productos = pd.read_csv(\"product.csv\", sep=\",\")\n",
    "print(productos.shape)\n",
    "print(f\"Categorias : {list(productos['category'].unique())}\")\n",
    "print(f\"Productos distintos para vender : {productos['id_product'].nunique()}\")\n",
    "productos.head()"
   ]
  },
  {
   "cell_type": "code",
   "execution_count": 5,
   "id": "60e6d618",
   "metadata": {},
   "outputs": [
    {
     "data": {
      "text/plain": [
       "id_product    0\n",
       "name          0\n",
       "category      0\n",
       "price         0\n",
       "dtype: int64"
      ]
     },
     "execution_count": 5,
     "metadata": {},
     "output_type": "execute_result"
    }
   ],
   "source": [
    "productos.isnull().sum()"
   ]
  },
  {
   "cell_type": "code",
   "execution_count": 6,
   "id": "49266e15",
   "metadata": {},
   "outputs": [
    {
     "name": "stdout",
     "output_type": "stream",
     "text": [
      "(500000, 4)\n"
     ]
    },
    {
     "data": {
      "text/html": [
       "<div>\n",
       "<style scoped>\n",
       "    .dataframe tbody tr th:only-of-type {\n",
       "        vertical-align: middle;\n",
       "    }\n",
       "\n",
       "    .dataframe tbody tr th {\n",
       "        vertical-align: top;\n",
       "    }\n",
       "\n",
       "    .dataframe thead th {\n",
       "        text-align: right;\n",
       "    }\n",
       "</style>\n",
       "<table border=\"1\" class=\"dataframe\">\n",
       "  <thead>\n",
       "    <tr style=\"text-align: right;\">\n",
       "      <th></th>\n",
       "      <th>id_commerce</th>\n",
       "      <th>id_product</th>\n",
       "      <th>quantity</th>\n",
       "      <th>price</th>\n",
       "    </tr>\n",
       "  </thead>\n",
       "  <tbody>\n",
       "    <tr>\n",
       "      <th>0</th>\n",
       "      <td>27</td>\n",
       "      <td>17</td>\n",
       "      <td>6</td>\n",
       "      <td>324</td>\n",
       "    </tr>\n",
       "    <tr>\n",
       "      <th>1</th>\n",
       "      <td>64</td>\n",
       "      <td>50</td>\n",
       "      <td>7</td>\n",
       "      <td>693</td>\n",
       "    </tr>\n",
       "    <tr>\n",
       "      <th>2</th>\n",
       "      <td>49</td>\n",
       "      <td>5</td>\n",
       "      <td>4</td>\n",
       "      <td>380</td>\n",
       "    </tr>\n",
       "    <tr>\n",
       "      <th>3</th>\n",
       "      <td>58</td>\n",
       "      <td>22</td>\n",
       "      <td>4</td>\n",
       "      <td>168</td>\n",
       "    </tr>\n",
       "    <tr>\n",
       "      <th>4</th>\n",
       "      <td>9</td>\n",
       "      <td>33</td>\n",
       "      <td>7</td>\n",
       "      <td>343</td>\n",
       "    </tr>\n",
       "  </tbody>\n",
       "</table>\n",
       "</div>"
      ],
      "text/plain": [
       "   id_commerce  id_product  quantity  price\n",
       "0           27          17         6    324\n",
       "1           64          50         7    693\n",
       "2           49           5         4    380\n",
       "3           58          22         4    168\n",
       "4            9          33         7    343"
      ]
     },
     "execution_count": 6,
     "metadata": {},
     "output_type": "execute_result"
    }
   ],
   "source": [
    "ventas = pd.read_csv(\"transactions.csv\", sep=\",\")\n",
    "print(ventas.shape)\n",
    "ventas.head()"
   ]
  },
  {
   "cell_type": "code",
   "execution_count": 7,
   "id": "8dcf0953",
   "metadata": {},
   "outputs": [
    {
     "data": {
      "text/plain": [
       "id_commerce    0\n",
       "id_product     0\n",
       "quantity       0\n",
       "price          0\n",
       "dtype: int64"
      ]
     },
     "execution_count": 7,
     "metadata": {},
     "output_type": "execute_result"
    }
   ],
   "source": [
    "ventas.isnull().sum()"
   ]
  },
  {
   "cell_type": "code",
   "execution_count": 8,
   "id": "8ecf4ca7",
   "metadata": {},
   "outputs": [
    {
     "data": {
      "text/html": [
       "<div>\n",
       "<style scoped>\n",
       "    .dataframe tbody tr th:only-of-type {\n",
       "        vertical-align: middle;\n",
       "    }\n",
       "\n",
       "    .dataframe tbody tr th {\n",
       "        vertical-align: top;\n",
       "    }\n",
       "\n",
       "    .dataframe thead th {\n",
       "        text-align: right;\n",
       "    }\n",
       "</style>\n",
       "<table border=\"1\" class=\"dataframe\">\n",
       "  <thead>\n",
       "    <tr style=\"text-align: right;\">\n",
       "      <th></th>\n",
       "      <th>id_commerce</th>\n",
       "      <th>id_product</th>\n",
       "      <th>quantity</th>\n",
       "      <th>price</th>\n",
       "    </tr>\n",
       "  </thead>\n",
       "  <tbody>\n",
       "    <tr>\n",
       "      <th>count</th>\n",
       "      <td>500000.000000</td>\n",
       "      <td>500000.000000</td>\n",
       "      <td>500000.000000</td>\n",
       "      <td>500000.000000</td>\n",
       "    </tr>\n",
       "    <tr>\n",
       "      <th>mean</th>\n",
       "      <td>50.540948</td>\n",
       "      <td>25.495818</td>\n",
       "      <td>5.004330</td>\n",
       "      <td>283.329010</td>\n",
       "    </tr>\n",
       "    <tr>\n",
       "      <th>std</th>\n",
       "      <td>28.842359</td>\n",
       "      <td>14.421320</td>\n",
       "      <td>2.585476</td>\n",
       "      <td>206.799043</td>\n",
       "    </tr>\n",
       "    <tr>\n",
       "      <th>min</th>\n",
       "      <td>1.000000</td>\n",
       "      <td>1.000000</td>\n",
       "      <td>1.000000</td>\n",
       "      <td>10.000000</td>\n",
       "    </tr>\n",
       "    <tr>\n",
       "      <th>25%</th>\n",
       "      <td>26.000000</td>\n",
       "      <td>13.000000</td>\n",
       "      <td>3.000000</td>\n",
       "      <td>108.000000</td>\n",
       "    </tr>\n",
       "    <tr>\n",
       "      <th>50%</th>\n",
       "      <td>51.000000</td>\n",
       "      <td>25.000000</td>\n",
       "      <td>5.000000</td>\n",
       "      <td>240.000000</td>\n",
       "    </tr>\n",
       "    <tr>\n",
       "      <th>75%</th>\n",
       "      <td>76.000000</td>\n",
       "      <td>38.000000</td>\n",
       "      <td>7.000000</td>\n",
       "      <td>415.000000</td>\n",
       "    </tr>\n",
       "    <tr>\n",
       "      <th>max</th>\n",
       "      <td>100.000000</td>\n",
       "      <td>50.000000</td>\n",
       "      <td>9.000000</td>\n",
       "      <td>891.000000</td>\n",
       "    </tr>\n",
       "  </tbody>\n",
       "</table>\n",
       "</div>"
      ],
      "text/plain": [
       "         id_commerce     id_product       quantity          price\n",
       "count  500000.000000  500000.000000  500000.000000  500000.000000\n",
       "mean       50.540948      25.495818       5.004330     283.329010\n",
       "std        28.842359      14.421320       2.585476     206.799043\n",
       "min         1.000000       1.000000       1.000000      10.000000\n",
       "25%        26.000000      13.000000       3.000000     108.000000\n",
       "50%        51.000000      25.000000       5.000000     240.000000\n",
       "75%        76.000000      38.000000       7.000000     415.000000\n",
       "max       100.000000      50.000000       9.000000     891.000000"
      ]
     },
     "execution_count": 8,
     "metadata": {},
     "output_type": "execute_result"
    }
   ],
   "source": [
    "ventas.describe()"
   ]
  },
  {
   "cell_type": "markdown",
   "id": "0bef5eea",
   "metadata": {},
   "source": [
    "## Ahora que ya hemos visto la data y chequeado que no hay valores nulos, procedemos a verificar cuantos productos distintos vende cada negocio"
   ]
  },
  {
   "cell_type": "code",
   "execution_count": 191,
   "id": "d27dec7e",
   "metadata": {},
   "outputs": [
    {
     "name": "stdout",
     "output_type": "stream",
     "text": [
      "Todos los comercios venden los 50 productos\n"
     ]
    },
    {
     "data": {
      "image/png": "[encoded data removed]",
      "text/plain": [
       "<Figure size 2500x1000 with 1 Axes>"
      ]
     },
     "metadata": {},
     "output_type": "display_data"
    }
   ],
   "source": [
    "# Agrupar por 'Comercio' y contar los productos únicos\n",
    "productos_por_comercio = ventas.groupby('id_commerce')['id_product'].nunique().reset_index()\n",
    "\n",
    "if productos_por_comercio['id_product'].unique() == 50:\n",
    "    print(\"Todos los comercios venden los 50 productos\")\n",
    "else:\n",
    "    print(\"No todos los comercios venden 50 productos\")\n",
    "\n",
    "# Ordenar por el número del comercio\n",
    "productos_por_comercio = productos_por_comercio.sort_values('id_commerce')\n",
    "\n",
    "# Graficar los resultados\n",
    "plt.figure(figsize=(25, 10))\n",
    "plt.bar(productos_por_comercio['id_commerce'], productos_por_comercio['id_product'], color='skyblue')\n",
    "\n",
    "# Añadir etiquetas y título\n",
    "plt.xlabel('Número de Comercio')\n",
    "plt.ylabel('Cantidad de Productos Distintos')\n",
    "plt.title('Cantidad de Productos Distintos por Comercio')\n",
    "plt.xticks(productos_por_comercio['id_commerce'])  # Asegura que los números de comercio aparezcan como ticks\n",
    "\n",
    "# Mostrar gráfico\n",
    "plt.show()"
   ]
  },
  {
   "cell_type": "markdown",
   "id": "70708ec4",
   "metadata": {},
   "source": [
    "### Dado que todos los comercios venden los 50 productos, probablemente haya que modificar el código para el sistema de recomendación de acuerdo al comercio y la categoría"
   ]
  },
  {
   "cell_type": "markdown",
   "id": "b1157cf4",
   "metadata": {},
   "source": [
    "## Ahora hacemos el merge para obtener informacion sobre el producto y la comuna"
   ]
  },
  {
   "cell_type": "code",
   "execution_count": 33,
   "id": "ec76acc6",
   "metadata": {},
   "outputs": [
    {
     "data": {
      "text/html": [
       "<div>\n",
       "<style scoped>\n",
       "    .dataframe tbody tr th:only-of-type {\n",
       "        vertical-align: middle;\n",
       "    }\n",
       "\n",
       "    .dataframe tbody tr th {\n",
       "        vertical-align: top;\n",
       "    }\n",
       "\n",
       "    .dataframe thead th {\n",
       "        text-align: right;\n",
       "    }\n",
       "</style>\n",
       "<table border=\"1\" class=\"dataframe\">\n",
       "  <thead>\n",
       "    <tr style=\"text-align: right;\">\n",
       "      <th></th>\n",
       "      <th>id_commerce</th>\n",
       "      <th>id_product</th>\n",
       "      <th>quantity</th>\n",
       "      <th>precio_total</th>\n",
       "      <th>district</th>\n",
       "      <th>name</th>\n",
       "      <th>category</th>\n",
       "      <th>precio_unitario</th>\n",
       "    </tr>\n",
       "  </thead>\n",
       "  <tbody>\n",
       "    <tr>\n",
       "      <th>0</th>\n",
       "      <td>27</td>\n",
       "      <td>17</td>\n",
       "      <td>6</td>\n",
       "      <td>324</td>\n",
       "      <td>Macul</td>\n",
       "      <td>Producto 17</td>\n",
       "      <td>Alimentos</td>\n",
       "      <td>54</td>\n",
       "    </tr>\n",
       "    <tr>\n",
       "      <th>1</th>\n",
       "      <td>64</td>\n",
       "      <td>50</td>\n",
       "      <td>7</td>\n",
       "      <td>693</td>\n",
       "      <td>Nunoa</td>\n",
       "      <td>Producto 50</td>\n",
       "      <td>Ropa</td>\n",
       "      <td>99</td>\n",
       "    </tr>\n",
       "    <tr>\n",
       "      <th>2</th>\n",
       "      <td>49</td>\n",
       "      <td>5</td>\n",
       "      <td>4</td>\n",
       "      <td>380</td>\n",
       "      <td>Penalolen</td>\n",
       "      <td>Producto 5</td>\n",
       "      <td>Ropa</td>\n",
       "      <td>95</td>\n",
       "    </tr>\n",
       "    <tr>\n",
       "      <th>3</th>\n",
       "      <td>58</td>\n",
       "      <td>22</td>\n",
       "      <td>4</td>\n",
       "      <td>168</td>\n",
       "      <td>Providencia</td>\n",
       "      <td>Producto 22</td>\n",
       "      <td>Electrónica</td>\n",
       "      <td>42</td>\n",
       "    </tr>\n",
       "    <tr>\n",
       "      <th>4</th>\n",
       "      <td>9</td>\n",
       "      <td>33</td>\n",
       "      <td>7</td>\n",
       "      <td>343</td>\n",
       "      <td>La Florida</td>\n",
       "      <td>Producto 33</td>\n",
       "      <td>Alimentos</td>\n",
       "      <td>49</td>\n",
       "    </tr>\n",
       "  </tbody>\n",
       "</table>\n",
       "</div>"
      ],
      "text/plain": [
       "   id_commerce  id_product  quantity  precio_total     district         name  \\\n",
       "0           27          17         6           324        Macul  Producto 17   \n",
       "1           64          50         7           693        Nunoa  Producto 50   \n",
       "2           49           5         4           380    Penalolen   Producto 5   \n",
       "3           58          22         4           168  Providencia  Producto 22   \n",
       "4            9          33         7           343   La Florida  Producto 33   \n",
       "\n",
       "      category  precio_unitario  \n",
       "0    Alimentos               54  \n",
       "1         Ropa               99  \n",
       "2         Ropa               95  \n",
       "3  Electrónica               42  \n",
       "4    Alimentos               49  "
      ]
     },
     "execution_count": 33,
     "metadata": {},
     "output_type": "execute_result"
    }
   ],
   "source": [
    "df = ventas.merge(comercios, how='left', on='id_commerce')\\\n",
    "        .merge(productos, how='left', on='id_product')\\\n",
    "            .rename(columns={'price_x':'precio_total',\n",
    "                             'price_y':'precio_unitario'})\n",
    "df.head()"
   ]
  },
  {
   "cell_type": "code",
   "execution_count": 36,
   "id": "7173fb4d",
   "metadata": {},
   "outputs": [
    {
     "data": {
      "text/plain": [
       "100"
      ]
     },
     "execution_count": 36,
     "metadata": {},
     "output_type": "execute_result"
    }
   ],
   "source": [
    "len(df['id_commerce'].unique())"
   ]
  },
  {
   "cell_type": "code",
   "execution_count": 32,
   "id": "0ce481e4",
   "metadata": {},
   "outputs": [
    {
     "data": {
      "text/html": [
       "<div>\n",
       "<style scoped>\n",
       "    .dataframe tbody tr th:only-of-type {\n",
       "        vertical-align: middle;\n",
       "    }\n",
       "\n",
       "    .dataframe tbody tr th {\n",
       "        vertical-align: top;\n",
       "    }\n",
       "\n",
       "    .dataframe thead th {\n",
       "        text-align: right;\n",
       "    }\n",
       "</style>\n",
       "<table border=\"1\" class=\"dataframe\">\n",
       "  <thead>\n",
       "    <tr style=\"text-align: right;\">\n",
       "      <th></th>\n",
       "      <th>category</th>\n",
       "      <th>quantity</th>\n",
       "      <th>precio_total</th>\n",
       "    </tr>\n",
       "  </thead>\n",
       "  <tbody>\n",
       "    <tr>\n",
       "      <th>0</th>\n",
       "      <td>Alimentos</td>\n",
       "      <td>67805</td>\n",
       "      <td>4083052</td>\n",
       "    </tr>\n",
       "    <tr>\n",
       "      <th>1</th>\n",
       "      <td>Electrónica</td>\n",
       "      <td>75202</td>\n",
       "      <td>3992991</td>\n",
       "    </tr>\n",
       "    <tr>\n",
       "      <th>2</th>\n",
       "      <td>Hogar</td>\n",
       "      <td>75851</td>\n",
       "      <td>3328320</td>\n",
       "    </tr>\n",
       "    <tr>\n",
       "      <th>3</th>\n",
       "      <td>Juguetes</td>\n",
       "      <td>59999</td>\n",
       "      <td>4208010</td>\n",
       "    </tr>\n",
       "    <tr>\n",
       "      <th>4</th>\n",
       "      <td>Ropa</td>\n",
       "      <td>97198</td>\n",
       "      <td>5660170</td>\n",
       "    </tr>\n",
       "  </tbody>\n",
       "</table>\n",
       "</div>"
      ],
      "text/plain": [
       "      category  quantity  precio_total\n",
       "0    Alimentos     67805       4083052\n",
       "1  Electrónica     75202       3992991\n",
       "2        Hogar     75851       3328320\n",
       "3     Juguetes     59999       4208010\n",
       "4         Ropa     97198       5660170"
      ]
     },
     "execution_count": 32,
     "metadata": {},
     "output_type": "execute_result"
    }
   ],
   "source": [
    "df_categorias = df[(df['district'] == \"Macul\")].groupby('category')[['quantity','precio_total']].sum().reset_index()\n",
    "df_categorias"
   ]
  },
  {
   "cell_type": "code",
   "execution_count": 25,
   "id": "4354e4e4",
   "metadata": {},
   "outputs": [
    {
     "name": "stdout",
     "output_type": "stream",
     "text": [
      "Productos en venta: 8\n",
      "Comercios que venden estos productos: 15\n"
     ]
    }
   ],
   "source": [
    "df_subset = df[(df['district'] == \"Macul\") & (df['category'] == \"Juguetes\")]\n",
    "print(f\"Productos en venta: {df_subset['id_product'].nunique()}\")\n",
    "print(f\"Comercios que venden estos productos: {df_subset['id_commerce'].nunique()}\")"
   ]
  },
  {
   "cell_type": "code",
   "execution_count": 55,
   "id": "bd2ed498",
   "metadata": {},
   "outputs": [],
   "source": [
    "df_subset_productos = df_subset.groupby('id_product')['quantity'].sum().reset_index()"
   ]
  },
  {
   "cell_type": "code",
   "execution_count": 60,
   "id": "b66466dc",
   "metadata": {},
   "outputs": [
    {
     "data": {
      "text/html": [
       "<div>\n",
       "<style scoped>\n",
       "    .dataframe tbody tr th:only-of-type {\n",
       "        vertical-align: middle;\n",
       "    }\n",
       "\n",
       "    .dataframe tbody tr th {\n",
       "        vertical-align: top;\n",
       "    }\n",
       "\n",
       "    .dataframe thead th {\n",
       "        text-align: right;\n",
       "    }\n",
       "</style>\n",
       "<table border=\"1\" class=\"dataframe\">\n",
       "  <thead>\n",
       "    <tr style=\"text-align: right;\">\n",
       "      <th></th>\n",
       "      <th>id_product</th>\n",
       "      <th>quantity</th>\n",
       "      <th>quantity_scaled</th>\n",
       "    </tr>\n",
       "  </thead>\n",
       "  <tbody>\n",
       "    <tr>\n",
       "      <th>4</th>\n",
       "      <td>30</td>\n",
       "      <td>7702</td>\n",
       "      <td>1.000000</td>\n",
       "    </tr>\n",
       "    <tr>\n",
       "      <th>5</th>\n",
       "      <td>34</td>\n",
       "      <td>7657</td>\n",
       "      <td>0.897260</td>\n",
       "    </tr>\n",
       "    <tr>\n",
       "      <th>2</th>\n",
       "      <td>14</td>\n",
       "      <td>7568</td>\n",
       "      <td>0.694064</td>\n",
       "    </tr>\n",
       "    <tr>\n",
       "      <th>3</th>\n",
       "      <td>24</td>\n",
       "      <td>7524</td>\n",
       "      <td>0.593607</td>\n",
       "    </tr>\n",
       "    <tr>\n",
       "      <th>0</th>\n",
       "      <td>7</td>\n",
       "      <td>7449</td>\n",
       "      <td>0.422374</td>\n",
       "    </tr>\n",
       "    <tr>\n",
       "      <th>6</th>\n",
       "      <td>35</td>\n",
       "      <td>7429</td>\n",
       "      <td>0.376712</td>\n",
       "    </tr>\n",
       "    <tr>\n",
       "      <th>7</th>\n",
       "      <td>42</td>\n",
       "      <td>7406</td>\n",
       "      <td>0.324201</td>\n",
       "    </tr>\n",
       "    <tr>\n",
       "      <th>1</th>\n",
       "      <td>8</td>\n",
       "      <td>7264</td>\n",
       "      <td>0.000000</td>\n",
       "    </tr>\n",
       "  </tbody>\n",
       "</table>\n",
       "</div>"
      ],
      "text/plain": [
       "   id_product  quantity  quantity_scaled\n",
       "4          30      7702         1.000000\n",
       "5          34      7657         0.897260\n",
       "2          14      7568         0.694064\n",
       "3          24      7524         0.593607\n",
       "0           7      7449         0.422374\n",
       "6          35      7429         0.376712\n",
       "7          42      7406         0.324201\n",
       "1           8      7264         0.000000"
      ]
     },
     "execution_count": 60,
     "metadata": {},
     "output_type": "execute_result"
    }
   ],
   "source": [
    "scaler = MinMaxScaler()\n",
    "\n",
    "df_subset_productos['quantity_scaled'] = scaler.fit_transform(df_subset_productos[['quantity']])\n",
    "df_subset_productos.sort_values(by=['quantity_scaled'], ascending=False)"
   ]
  },
  {
   "cell_type": "markdown",
   "id": "10541d2b",
   "metadata": {},
   "source": [
    "## Armamos la funcion para obtener la similitud entre los comercios"
   ]
  },
  {
   "cell_type": "code",
   "execution_count": 215,
   "id": "08e537e8",
   "metadata": {},
   "outputs": [],
   "source": [
    "def similitud_comercios(categoria, comuna):\n",
    "    df_temp = df[(df['category'] == categoria) & (df['district'] == comuna)]\n",
    "    \n",
    "    # Crear la matriz de compras (comercio vs producto)\n",
    "    matriz_compras = df_temp.pivot_table(index='id_commerce', columns='id_product', values='quantity', aggfunc='sum').fillna(0)\n",
    "    \n",
    "    # Aplicar MinMaxScaler para escalar los valores entre 0 y 1\n",
    "    scaler = MinMaxScaler()\n",
    "    matriz_compras_scaled = scaler.fit_transform(matriz_compras)\n",
    "    \n",
    "    # Calcular la similitud entre comercios\n",
    "    similitud_comercios = cosine_similarity(matriz_compras_scaled)\n",
    "    \n",
    "    # Convertir la similitud en un DataFrame\n",
    "    similitud_comercios_df = pd.DataFrame(similitud_comercios, index=matriz_compras.index, columns=matriz_compras.index)\n",
    "    \n",
    "    return similitud_comercios_df"
   ]
  },
  {
   "cell_type": "markdown",
   "id": "f629ee63",
   "metadata": {},
   "source": [
    "# Armamos la funcion para obtener nuestro sistema de recomendación"
   ]
  },
  {
   "cell_type": "code",
   "execution_count": 223,
   "id": "7accdf8f",
   "metadata": {},
   "outputs": [],
   "source": [
    "# Función para recomendar productos basados en la popularidad en comercios similares\n",
    "def recomendar_productos():\n",
    "    # Damos la bienvenida al sistema\n",
    "    print(\"¡Bienvenido al sistema de recomendación de productos!\")\n",
    "    print(\"\\n\")\n",
    "    \n",
    "    # Buscamos el listado de comercios, categorias y solicitamos el número de comercio al cliente\n",
    "    listado_comercios = comercios['id_commerce'].unique()\n",
    "    listado_categorias = productos['category'].unique()\n",
    "    listado_metricas = ['Unidades', 'Ventas']\n",
    "    \n",
    "    numero_comercio = int(input(\"Por favor indique su número de comercio: \"))\n",
    "    \n",
    "    while numero_comercio not in listado_comercios:\n",
    "        numero_comercio = int(input(\"Comercio no válido. Por favor ingrese su numero de comercio (1 al 100): \"))\n",
    "    else:\n",
    "        # Filtrar comercios en la misma comuna\n",
    "        comuna_comercio = comercios[comercios['id_commerce'] == numero_comercio]['district'].iloc[0]\n",
    "        comercios_comuna = df[df['district'] == comuna_comercio]['id_commerce'].unique()\n",
    "        \n",
    "        # Se selecciona la categoria\n",
    "        print(\"\\n\")\n",
    "        print(\"Categorías disponibles:\")\n",
    "        for idx, cat in enumerate(listado_categorias, start=1):\n",
    "            print(f\"{idx}. {cat}\")\n",
    "        \n",
    "        categoria_seleccionada = str(input(\"Seleccione una categoria: \"))\n",
    "         \n",
    "        while categoria_seleccionada not in listado_categorias:\n",
    "            categoria_seleccionada = str(input(\"Categoría no válida. Favor seleccionar una categoría disponible: \"))\n",
    "        \n",
    "        else:\n",
    "            # Obtenemos la matriz de similitud\n",
    "            similitud_comercios_df = similitud_comercios(categoria_seleccionada, comuna_comercio)\n",
    "            \n",
    "            # Obtener las similitudes de los comercios de la misma comuna\n",
    "            similitudes_comuna = similitud_comercios_df.loc[numero_comercio, comercios_comuna]\n",
    "        \n",
    "            # Filtrar: eliminar el comercio actual y los que tengan una similitud menor a 0.85\n",
    "            similitudes_comuna = similitudes_comuna[similitudes_comuna.index != numero_comercio]\n",
    "            similitudes_comuna = similitudes_comuna[similitudes_comuna >= 0.85]\n",
    "        \n",
    "            # Ordenar los comercios similares en la misma comuna por similitud (descendente)\n",
    "            comercios_similares = similitudes_comuna.sort_values(ascending=False).index\n",
    "                    \n",
    "            # Inicializar una tabla de conteo de productos\n",
    "            conteo_productos = pd.Series(dtype='float64')\n",
    "        \n",
    "            # Recorrer los comercios similares para acumular las cantidades de productos comprados\n",
    "            for comercio_similar in comercios_similares:\n",
    "               \n",
    "                # Obtenemos los productos más comprados por ese comercio dentro de la categoría\n",
    "                productos_similares = df[(df['id_commerce'] == comercio_similar) & \n",
    "                                         (df['category'] == categoria_seleccionada)][['id_product', 'quantity']]\n",
    "                          \n",
    "                # Acumular las cantidades compradas para cada producto\n",
    "                conteo_productos = conteo_productos.add(productos_similares.groupby('id_product')['quantity']\\\n",
    "                                                        .sum(), fill_value=0)\n",
    "    \n",
    "                # Ordenar los productos por la cantidad acumulada de compras\n",
    "                productos_recomendados = conteo_productos.sort_values(ascending=False).index[:10]\n",
    "                productos_entregados = productos[productos['id_product'].isin(productos_recomendados)][['name', 'price']]\n",
    "                        \n",
    "    return print(f\"\\n Las recomendaciones de productos para el comercio {numero_comercio}, en la comuna de {comuna_comercio} para la categoria {categoria_seleccionada} son: \"), print(productos_entregados)"
   ]
  },
  {
   "cell_type": "markdown",
   "id": "9ccad760",
   "metadata": {},
   "source": [
    "## Hacemos el test"
   ]
  },
  {
   "cell_type": "code",
   "execution_count": 224,
   "id": "2793b1dc",
   "metadata": {
    "scrolled": false
   },
   "outputs": [
    {
     "name": "stdout",
     "output_type": "stream",
     "text": [
      "¡Bienvenido al sistema de recomendación de productos!\n",
      "\n",
      "\n",
      "Por favor indique su número de comercio: 4\n",
      "\n",
      "\n",
      "Categorías disponibles:\n",
      "1. Hogar\n",
      "2. Electrónica\n",
      "3. Alimentos\n",
      "4. Ropa\n",
      "5. Juguetes\n",
      "Seleccione una categoria: Alimentos\n",
      "\n",
      " Las recomendaciones de productos para el comercio 4, en la comuna de Nunoa para la categoria Alimentos son: \n",
      "           name  price\n",
      "3    Producto 4     95\n",
      "8    Producto 9     19\n",
      "14  Producto 15     82\n",
      "16  Producto 17     54\n",
      "18  Producto 19     98\n",
      "25  Producto 26     24\n",
      "26  Producto 27     68\n",
      "32  Producto 33     49\n",
      "35  Producto 36     55\n"
     ]
    },
    {
     "data": {
      "text/plain": [
       "(None, None)"
      ]
     },
     "execution_count": 224,
     "metadata": {},
     "output_type": "execute_result"
    }
   ],
   "source": [
    "recomendar_productos()"
   ]
  }
 ],
 "metadata": {
  "kernelspec": {
   "display_name": "Python 3 (ipykernel)",
   "language": "python",
   "name": "python3"
  },
  "language_info": {
   "codemirror_mode": {
    "name": "ipython",
    "version": 3
   },
   "file_extension": ".py",
   "mimetype": "text/x-python",
   "name": "python",
   "nbconvert_exporter": "python",
   "pygments_lexer": "ipython3",
   "version": "3.10.9"
  }
 },
 "nbformat": 4,
 "nbformat_minor": 5
}
